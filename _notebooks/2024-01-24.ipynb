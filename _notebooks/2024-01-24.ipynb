{
 "cells": [
  {
   "cell_type": "markdown",
   "metadata": {},
   "source": [
    "---\n",
    "title: Login/Signup\n",
    "courses: {'compsci': {'week': 6}}\n",
    "type: tangibles\n",
    "layout: base\n",
    "---"
   ]
  },
  {
   "cell_type": "markdown",
   "metadata": {},
   "source": [
    "# Building a Secure Login/Signup System\n",
    "\n",
    "## 1. Introduction (Vibha)\n",
    "\n",
    "- Brief overview of the importance of secure authentication.\n",
    "- Mention of the frontend and backend components.\n",
    "\n",
    "## 2. Frontend Components Anusha\n",
    "\n",
    "#### a. User Interface (UI)\n",
    "\n",
    "- Explanation of Login and Signup page designs.\n",
    "- Showcase of UI elements and navigation.\n",
    "\n",
    "#### b. User Interaction\n",
    "\n",
    "- Demonstration of input validation.\n",
    "- Explanation of how authentication requests are sent to the backend (drawing)"
   ]
  },
  {
   "cell_type": "markdown",
   "metadata": {},
   "source": [
    "## 3. Backend Components Isabel\n",
    "\n",
    "\n",
    "To create and register a user, you can using the existing code in user.py in the api folder and update it, like this:"
   ]
  },
  {
   "cell_type": "code",
   "execution_count": null,
   "metadata": {},
   "outputs": [],
   "source": [
    "class _CRUD(Resource):  # User API operation for Create, Read.  THe Update, Delete methods need to be implemented\n",
    "        def post(self): # Create method\n",
    "            ''' Read data for json body '''\n",
    "            body = request.get_json()\n",
    "            \n",
    "            ''' Avoid garbage in, error checking '''\n",
    "            # validate name\n",
    "            name = body.get('name')\n",
    "            if name is None or len(name) < 2:\n",
    "                return {'message': f'Name is missing, or is less than 2 characters'}, 400\n",
    "            # validate uid\n",
    "            uid = body.get('uid')\n",
    "            if uid is None or len(uid) < 2:\n",
    "                return {'message': f'User ID is missing, or is less than 2 characters'}, 400\n",
    "            # look for password and dob\n",
    "            password = body.get('password')\n",
    "            dob = body.get('dob')\n",
    "            coins = 0\n",
    "            \n",
    "            \n",
    "            tracking = body.get('tracking') #validate tracking\n",
    "            #\n",
    "            exercise = body.get('exercise') #validate exercise\n",
    "\n",
    "            ''' #1: Key code block, setup USER OBJECT '''\n",
    "            uo = User(name=name, #user name\n",
    "                      uid=uid, tracking=tracking, exercise=exercise, dob=dob, coins=coins)\n",
    "\n",
    "# The `LoginAPI` class defines a resource for handling user login in a Flask application.\n",
    "\n",
    "class LoginAPI(Resource):\n",
    "    def post(self):\n",
    "        data = request.get_json()\n",
    "\n",
    "        # Retrieve uid and password from the request data\n",
    "        uid = data.get('uid')\n",
    "        password = data.get('password')\n",
    "\n",
    "# The post method handles HTTP POST requests.\n",
    "# Retrieves JSON data from the request body, expecting 'uid' and 'password' fields."
   ]
  },
  {
   "cell_type": "markdown",
   "metadata": {},
   "source": []
  }
 ],
 "metadata": {
  "language_info": {
   "name": "python"
  },
  "orig_nbformat": 4
 },
 "nbformat": 4,
 "nbformat_minor": 2
}

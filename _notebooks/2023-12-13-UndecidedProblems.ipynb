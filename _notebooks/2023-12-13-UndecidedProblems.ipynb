{
 "cells": [
  {
   "cell_type": "markdown",
   "metadata": {},
   "source": [
    "---\n",
    "toc: true\n",
    "comments: true\n",
    "layout: post\n",
    "title: 3.8 Undecided Problems Team Teach\n",
    "courses: {compsci: {week: 4}}\n",
    "type: hacks\n",
    "---"
   ]
  },
  {
   "cell_type": "markdown",
   "metadata": {},
   "source": [
    "# What is an Undecidable Problem? \n",
    "\n",
    "Some problems take a very long time to solve, so we use algorithms that give approximate solutions. There are some problems that a computer can never solve, even the world's most powerful computer with infinite time: the undecidable problems.\n",
    "\n",
    "\n",
    "- An decidable problem is a decision problem for which an algorithm can be written to produce a correct number for all inputs (eg: is the number even) (Collegeboard AAP-4.B.1)\n",
    "- An undecidable problem is one for which no algorith can be constructed that is always capable of providing a correct yes-or-no answer. (Collegeboard AAP-4.B.2) An undecidable problem may have some instances  that have an algorthimic solution, but there is no algorithmic solution that could solve all instances of the problem."
   ]
  },
  {
   "cell_type": "markdown",
   "metadata": {},
   "source": [
    "## Popcorn Hack 1"
   ]
  },
  {
   "cell_type": "markdown",
   "metadata": {},
   "source": [
    "## Popcorn Hack 1\n",
    "\n",
    "### 1. Review of the Definition of an Undecided Problem\n",
    "\n",
    " A company is developing a tool to detect \"unreachable code\": code in a program that will never be executed because no paths ever lead to that line of code. They want to release the tool with the promise that it will \"find and delete 100% of the unreachable code in your codebase!\" Unfortunately, one of the programmers does some research and realizes that determining whether a line of code is unreachable is an undecidable problem.\n",
    "\n",
    "**What are the consequences of the problem being undecidable?**\n",
    "\n",
    "**A.** The programmers can come up with an algorithm that will find 100% of the unreachable code, but it would take an unreasonable amount of time to run.\n",
    "\n",
    "**B.** The programmers can come up with an algorithm that correctly determines unreachable code most of the time, but it will not correctly identify unreachable code in all cases.\n",
    "\n",
    "**C.** The programmers may be able to come up with an algorithm to find 100% of the unreachable code, but nobody has come up with the algorithm yet, so they will need more development time.\n",
    "\n",
    "**D.** The tool will not be able to correctly identify any cases of unreachable code.\n",
    "\n",
    "<details>\n",
    "  <summary>Solution</summary>\n",
    "  <strong>B</strong> is the correct answer as the definition of an undecided problem states that an algorithm may be able to solve the problem in some cases but no algorithm exists to solve all cases.  \n",
    "</details>"
   ]
  },
  {
   "cell_type": "markdown",
   "metadata": {},
   "source": [
    "# Halting Problem \n",
    "\n",
    "The Halting Problem is a classic example of an undecidable problem in computer science, formulated by Alan Turing in the 1930s. It addresses the fundamental question of whether a program, given any input, will eventually halt (terminate) or run indefinitely (enter an infinite loop).\n",
    "\n",
    "The essence of the Halting Problem revolves around creating an algorithm that can accurately determine, for any program and input, whether that program will halt or continue running forever. Alan Turing proved that such an algorithm cannot exist.\n",
    "\n",
    "For example, consider this program that counts down:\n",
    "\n",
    "![Decided](https://raw.githubusercontent.com/jplip/frontTri2/main/images/decided.png)\n",
    "\n",
    "That program will halt, since num eventually becomes 0.\n",
    "Compare that to this program that counts up:\n",
    "\n",
    "![Undecided](https://raw.githubusercontent.com/jplip/frontTri2/main/images/undecided.png)\n",
    "\n",
    "It counts up forever, since num will never equal 0.\n",
    "Algorithms do exist that can correctly predict that the first program halts and the second program never does. These are simple programs which don't change based on different inputs.\n",
    "However, no algorithm exists that can analyze any program's code and determine whether it halts or not."
   ]
  },
  {
   "cell_type": "markdown",
   "metadata": {},
   "source": [
    "## Popcorn Hack 2\n",
    "\n",
    "### 2. Review of the Halting Problem\n",
    "\n",
    "Which of the following options best summarizes the Halting Problem?\n",
    "\n",
    "**A.** The Halting Problem is a decision problem in computability theory that seeks to determine whether a given algorithm will halt or run indefinitely for all possible inputs.\n",
    "\n",
    "**B.** The Halting Problem is a sorting algorithm designed to arrange elements in ascending order.\n",
    "\n",
    "**C.** The Halting Problem is a protocol used to secure communications over the internet.\n",
    "\n",
    "**D.** The Halting Problem is a theorem in number theory that deals with prime numbers.\n",
    "\n",
    "<details>\n",
    "  <summary>Solution</summary>\n",
    "  <strong>A</strong> is the correct answer as the Halting Problem was Turing's proof of the existence of an undecided problem.   \n",
    "</details>"
   ]
  },
  {
   "cell_type": "markdown",
   "metadata": {},
   "source": [
    "# Turing's Proof Through Contradiction: \n",
    "defintion proof through contradiction: a form of proof that assumes a claim false and shows that this state leads to a known contradiction; therefore, the claim must be true\n",
    "1. **We assume the halting algoritm exists**\n",
    "So here's the basic code flowchart for the halting algorithm:\n",
    "\n",
    "Here's the reverser (which consists of its halting algorithm) which basically does the opposite of the halting algoritm returns.\n",
    "\n",
    "The Reverser works on programs such as Count Up or Count Down until 0.\n",
    "\n",
    "2. **The contradiction**\n",
    "But if we plug Reverser into itself....\n",
    "\n",
    "**Reverser does the opposite of HaltChecker so HaltChecker can never be right.**\n",
    "\n",
    "- Yellow path: If HaltChecker says that Reverser never halts; the Reverser will halt\n",
    "- Green Path: If HaltCheck says Reverser halts; the Reverser will never halt\n",
    "\n",
    "However, we said that HaltChecker exists and is always correct.\n",
    "3. **Conclusion**\n",
    "Therefore, HaltChecker cannot exist."
   ]
  },
  {
   "cell_type": "markdown",
   "metadata": {},
   "source": [
    "# Implications and Further Undecidable Problems\n",
    "- **Consequences:** Discuss the implications of proving the Halting Problem as undecidable in the realm of computer science.\n",
    "- **Additional Undecidable Problems:** Introduce other undecidable problems, highlighting their similarities to the Halting Problem.\n",
    "\n",
    "- The Post Correspondence Problem (PCP)\n",
    "- **Description:** Given a set of tiles with strings, the PCP seeks a sequence that concatenates to identical top and bottom strings.\n",
    "- **Undecidability:** Turing demonstrated that no algorithm can determine this sequence for all sets of tiles.\n",
    "\n",
    "- Rice's Theorem\n",
    "- **Description:** Deals with non-trivial properties of program behavior.\n",
    "- **Undecidability:** It states that determining properties like a program's output is undecidable.\n",
    "\n",
    "- The Collatz Conjecture\n",
    "- **Description:** Involves iterating a sequence based on a specific rule applied to a positive integer.\n",
    "- **Undecidability:** Whether this sequence always reaches 1 from any starting number remains unsolved.\n",
    "\n",
    "-  The Tiling Problem\n",
    "- **Description:** Determines if a given shape can be tiled perfectly without gaps or overlaps.\n",
    "- **Undecidability:** Proving whether an arbitrary shape can be tiled without gaps or overlaps is undecidable.\n",
    "\n",
    "-- The Entscheidungsproblem\n",
    "- **Description:** Focuses on determining the validity of logical statements within a logical system.\n",
    "- **Undecidability:** Gödel, Church, and Turing proved the Entscheidungsproblem to be undecidable."
   ]
  },
  {
   "cell_type": "markdown",
   "metadata": {},
   "source": [
    "## Popcorn Hacks \n",
    "\n",
    "### 3. Review of Alternative Examples of Undecided Problems\n",
    "\n",
    "Which of the following options is not an example of an undecided problem?\n"
   ]
  }
 ],
 "metadata": {
  "language_info": {
   "name": "python"
  }
 },
 "nbformat": 4,
 "nbformat_minor": 2
}

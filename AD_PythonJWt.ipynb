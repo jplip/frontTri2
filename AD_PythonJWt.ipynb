{
 "cells": [
  {
   "cell_type": "markdown",
   "metadata": {},
   "source": [
    "---\n",
    "title: Checkpoint A Team Review Ticket\n",
    "courses: {'compsci': {'week': 6}}\n",
    "type: tangibles\n",
    "layout: base\n",
    "---"
   ]
  },
  {
   "cell_type": "markdown",
   "metadata": {},
   "source": [
    "### 1. Introduction (Vibha)\n",
    "\n",
    "- Brief overview of the importance of secure authentication.\n",
    "- Mention of the frontend and backend components."
   ]
  },
  {
   "cell_type": "markdown",
   "metadata": {},
   "source": [
    "2. Anusha\n",
    "\n",
    "\n",
    "#### a. User Interface (UI)\n",
    "\n",
    "- Explanation of Login and Signup page designs.\n",
    "- Showcase of UI elements and navigation.\n",
    "\n",
    "#### b. User Interaction\n",
    "\n",
    "- Demonstration of input validation.\n",
    "- Explanation of how authentication requests are sent to the backend.\n",
    "\n",
    "Postman Video\n",
    "\n"
   ]
  },
  {
   "cell_type": "markdown",
   "metadata": {},
   "source": [
    "### 3. Backend Components (Isabel)\n",
    "\n",
    "#### a. Authentication Controller\n",
    "\n",
    "- Detailed explanation of the signup and login endpoints.\n",
    "- Generating authentication tokens.\n",
    "\n",
    "#### b. User Database\n",
    "\n",
    "- Explanation of securely storing user information.\n",
    "\n",
    "#### c. Security Configuration\n",
    "\n",
    "- Importance of HTTPS for secure data transmission.\n",
    "- Use of JWTs, password hashing, CSRF protection, and rate limiting.\n",
    "\n",
    "#### d. API Routes\n",
    "\n",
    "- Definition and implementation of routes for authentication.\n",
    "- Middleware for authentication and authorization."
   ]
  },
  {
   "cell_type": "markdown",
   "metadata": {},
   "source": [
    "### 4. Login Process (Justin)\n",
    "\n",
    "#### a. Step-by-step walkthrough\n",
    "\n",
    "- Frontend and backend interactions during the login process.\n",
    "- Demonstration of how the user gains access to protected routes.\n",
    "\n",
    "### 5. Signup Process\n",
    "\n",
    "#### a. Step-by-step walkthrough\n",
    "\n",
    "- Frontend and backend interactions during the signup process.\n",
    "- Demonstration of how the user gains access to protected routes after signup.\n"
   ]
  },
  {
   "cell_type": "markdown",
   "metadata": {},
   "source": [
    "## 6. Best Practices and Additional Features (Vibha)\n",
    "\n",
    "- Brief discussion on additional security features (e.g., email verification, two-factor authentication).\n",
    "- Emphasis on following best practices for security and privacy."
   ]
  }
 ],
 "metadata": {
  "language_info": {
   "name": "python"
  }
 },
 "nbformat": 4,
 "nbformat_minor": 2
}

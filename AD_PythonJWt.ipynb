{
 "cells": [
  {
   "cell_type": "markdown",
   "metadata": {},
   "source": [
    "---\n",
    "title: Checkpoint A Team Review Ticket\n",
    "courses: {'compsci': {'week': 6}}\n",
    "type: tangibles\n",
    "layout: base\n",
    "---"
   ]
  },
  {
   "cell_type": "markdown",
   "metadata": {},
   "source": [
    "### 1. Introduction (Vibha)\n",
    "\n",
    "- Brief overview of the importance of secure authentication.\n",
    "- Mention of the frontend and backend components."
   ]
  }
 ],
 "metadata": {
  "language_info": {
   "name": "python"
  }
 },
 "nbformat": 4,
 "nbformat_minor": 2
}
